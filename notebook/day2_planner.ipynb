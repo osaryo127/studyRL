{
 "cells": [
  {
   "cell_type": "markdown",
   "metadata": {},
   "source": [
    "## Day2 （環境から計画を立てる）"
   ]
  },
  {
   "cell_type": "markdown",
   "metadata": {},
   "source": [
    "ここでは動的計画法(Dynamic　Programing: DP)を扱う。\n"
   ]
  },
  {
   "cell_type": "code",
   "execution_count": 1,
   "metadata": {},
   "outputs": [],
   "source": [
    "import random\n",
    "import sys\n",
    "sys.path.append('../../baby-steps-of-rl-ja/DP/')\n",
    "\n",
    "from environment import Environment"
   ]
  },
  {
   "cell_type": "markdown",
   "metadata": {},
   "source": [
    "## Day1復習\n",
    "\n",
    "- 強化学習はマルコフ決定過程を仮定し、その元で報酬の総和を最大化する方策をもつエージェントをもとめる問題\n",
    "    - マルコフ決定過程は以下の(S, A, T, R)の組である\n",
    "        - S: 状態全体の集合\n",
    "        - A: アクション全体の集合\n",
    "        - T: S×A×S -> [0, 1] 状態とアクションから次の状態への遷移確率を返す関数\n",
    "        - R: S×A×S -> 実数全体 状態, アクション, 遷移状態の状態から報酬を返す関数\n",
    "\n",
    "\n",
    "- Environmentクラス\n",
    "    - 迷路環境クラス\n",
    "    - State, Actionを内部に持つ\n",
    "    - Environment.step()メソッドにアクションを渡すことで、内部で遷移確率T(s'| s, a)を計算し、Tに応じた(状態遷移/rewardの計算/終了判定)をする。"
   ]
  },
  {
   "cell_type": "markdown",
   "metadata": {},
   "source": [
    "# Bellman方程式\n",
    "- 価値評価関数を網羅的に、厳密に計算する例\n",
    "- Value baseのiteration実装\n",
    "- Policy baseのiteration実装\n",
    "\n",
    "- policy baseのアクションは確率1/0しかないのか?（実装はそうなっている）　policyで複数アクションが等確率になった場合の計算方法は？"
   ]
  },
  {
   "cell_type": "markdown",
   "metadata": {},
   "source": [
    "## Bellman方程式の計算(決定的)\n",
    "- 価値関数の再帰表現を用いた価値計算\n",
    "- 状態数が多くない & エピソードが長くない場合に計算可能"
   ]
  },
  {
   "cell_type": "code",
   "execution_count": 2,
   "metadata": {},
   "outputs": [],
   "source": [
    "# happy endゲーム(仮)\n",
    "# upかdownを繰り返し、5回行動したら終了。終了時upがHAPPY_END_BORDER以上なら\"happy_end\", そうでなければ\"bad_end\"\n",
    "# MOVE\n",
    "\n",
    "\n",
    "def V(s, gamma=0.99):\n",
    "    \"\"\" 価値関数(再帰)\n",
    "    次の状態の(遷移確率 * 価値)のmaxのみを計算に使用\n",
    "    \"\"\"\n",
    "    V = R(s) + gamma * max_V_on_next_state(s)\n",
    "    return V\n",
    "\n",
    "\n",
    "def R(s):\n",
    "    \"\"\" 報酬関数\n",
    "    終了状態のみ±1, それ以外0\n",
    "    \"\"\"\n",
    "    if s == \"happy_end\":\n",
    "        return 1\n",
    "    elif s == \"bad_end\":\n",
    "        return -1\n",
    "    else:\n",
    "        return 0\n",
    "\n",
    "\n",
    "def max_V_on_next_state(s):\n",
    "    \"\"\" \n",
    "    全アクション, 全遷移先状態の(遷移確率 * 価値)のmaxの値を返す\n",
    "    \"\"\"\n",
    "    # If game end, expected value is 0.\n",
    "    if s in [\"happy_end\", \"bad_end\"]:\n",
    "        return 0\n",
    "\n",
    "    actions = [\"up\", \"down\"]\n",
    "    values = []\n",
    "    for a in actions:\n",
    "        transition_probs = transit_func(s, a)\n",
    "        v = 0\n",
    "        for next_state in transition_probs:\n",
    "            prob = transition_probs[next_state]\n",
    "            v += prob * V(next_state)\n",
    "        values.append(v)\n",
    "    return max(values)\n",
    "\n",
    "\n",
    "def transit_func(s, a):\n",
    "    \"\"\" T(s'| s, a): 状態とアクション(\"up\", \"down\")を受け取り、遷移確率を返す\n",
    "    Make next state by adding action str to state.\n",
    "    ex: (s = 'state', a = 'up') => 'state_up'\n",
    "        (s = 'state_up', a = 'down') => 'state_up_down'\n",
    "    \"\"\"\n",
    "\n",
    "    actions = s.split(\"_\")[1:]\n",
    "    LIMIT_GAME_COUNT = 5\n",
    "    HAPPY_END_BORDER = 4\n",
    "    MOVE_PROB = 0.9\n",
    "\n",
    "    def next_state(state, action):\n",
    "        return \"_\".join([state, action])\n",
    "\n",
    "    # ゲーム終了, 確率1で終了結果　に遷移\n",
    "    if len(actions) == LIMIT_GAME_COUNT:\n",
    "        up_count = sum([1 if a == \"up\" else 0 for a in actions])\n",
    "        state = \"happy_end\" if up_count >= HAPPY_END_BORDER else \"bad_end\"\n",
    "        prob = 1.0\n",
    "        return {state: prob}\n",
    "    # ゲーム続行\n",
    "    else:\n",
    "        opposite = \"up\" if a == \"down\" else \"down\"\n",
    "        return {\n",
    "            next_state(s, a): MOVE_PROB,\n",
    "            next_state(s, opposite): 1 - MOVE_PROB\n",
    "        }\n"
   ]
  },
  {
   "cell_type": "code",
   "execution_count": 3,
   "metadata": {},
   "outputs": [
    {
     "name": "stdout",
     "output_type": "stream",
     "text": [
      "0.7880942034605892\n",
      "0.9068026334400001\n",
      "-0.96059601\n"
     ]
    }
   ],
   "source": [
    "# 状態価値の算出\n",
    "print(V(\"state\"))\n",
    "print(V(\"state_up_up\"))\n",
    "print(V(\"state_down_down\"))"
   ]
  },
  {
   "cell_type": "markdown",
   "metadata": {},
   "source": [
    "## Bellman方程式の計算(動的計画法近似)"
   ]
  },
  {
   "cell_type": "markdown",
   "metadata": {},
   "source": [
    "## planner\n",
    "- 動的計画法による価値関数近似クラス\n",
    "- Plannerクラスを継承してValueIterationとPolicyIterationクラスを実装"
   ]
  },
  {
   "cell_type": "code",
   "execution_count": 4,
   "metadata": {},
   "outputs": [],
   "source": [
    "class Planner():\n",
    "\n",
    "    def __init__(self, env):\n",
    "        self.env = env\n",
    "        self.log = []\n",
    "\n",
    "    def initialize(self):\n",
    "        self.env.reset()\n",
    "        self.log = []\n",
    "\n",
    "    def plan(self, gamma=0.9, threshold=0.0001):\n",
    "        raise Exception(\"Planner have to implements plan method.\")\n",
    "\n",
    "    def transitions_at(self, state, action):\n",
    "        transition_probs = self.env.transit_func(state, action)\n",
    "        for next_state in transition_probs:\n",
    "            prob = transition_probs[next_state]\n",
    "            reward, _ = self.env.reward_func(next_state)\n",
    "            yield prob, next_state, reward\n",
    "\n",
    "    def dict_to_grid(self, state_reward_dict):\n",
    "        grid = []\n",
    "        for i in range(self.env.row_length):\n",
    "            row = [0] * self.env.column_length\n",
    "            grid.append(row)\n",
    "        for s in state_reward_dict:\n",
    "            grid[s.row][s.column] = state_reward_dict[s]\n",
    "\n",
    "        return grid"
   ]
  },
  {
   "cell_type": "markdown",
   "metadata": {},
   "source": [
    "## Value Iteration"
   ]
  },
  {
   "cell_type": "code",
   "execution_count": 5,
   "metadata": {},
   "outputs": [],
   "source": [
    "class ValueIterationPlanner(Planner):\n",
    "\n",
    "    def __init__(self, env):\n",
    "        super().__init__(env)\n",
    "\n",
    "    def plan(self, gamma=0.9, threshold=0.0001):\n",
    "        self.initialize()\n",
    "        actions = self.env.actions\n",
    "        V = {}\n",
    "        for s in self.env.states:\n",
    "            # Initialize each state's expected reward.\n",
    "            V[s] = 0\n",
    "            \n",
    "        i = 0\n",
    "        while True:\n",
    "            i += 1\n",
    "            print(f'ite: {i}')\n",
    "            delta = 0\n",
    "            self.log.append(self.dict_to_grid(V))\n",
    "            for s in V:\n",
    "                if not self.env.can_action_at(s):\n",
    "                    continue\n",
    "                expected_rewards = []\n",
    "                for a in actions:\n",
    "                    r = 0\n",
    "                    for prob, next_state, reward in self.transitions_at(s, a):\n",
    "                        r += prob * (reward + gamma * V[next_state])\n",
    "                    expected_rewards.append(r)\n",
    "                max_reward = max(expected_rewards)\n",
    "                delta = max(delta, abs(max_reward - V[s]))\n",
    "                V[s] = max_reward\n",
    "\n",
    "            if delta < threshold:\n",
    "                break\n",
    "\n",
    "        V_grid = self.dict_to_grid(V)\n",
    "        return V_grid"
   ]
  },
  {
   "cell_type": "markdown",
   "metadata": {},
   "source": [
    "## Policy Iteration "
   ]
  },
  {
   "cell_type": "code",
   "execution_count": 6,
   "metadata": {},
   "outputs": [],
   "source": [
    "class PolicyIterationPlanner(Planner):\n",
    "\n",
    "    def __init__(self, env):\n",
    "        super().__init__(env)\n",
    "        self.policy = {}\n",
    "\n",
    "    def initialize(self):\n",
    "        super().initialize()\n",
    "        self.policy = {}\n",
    "        actions = self.env.actions\n",
    "        states = self.env.states\n",
    "        for s in states:\n",
    "            self.policy[s] = {}\n",
    "            for a in actions:\n",
    "                # Initialize policy.\n",
    "                # At first, each action is taken uniformly.\n",
    "                self.policy[s][a] = 1 / len(actions)\n",
    "\n",
    "    def estimate_by_policy(self, gamma, threshold):\n",
    "        V = {}\n",
    "        for s in self.env.states:\n",
    "            # Initialize each state's expected reward.\n",
    "            V[s] = 0\n",
    "    \n",
    "\n",
    "        while True:\n",
    "            delta = 0\n",
    "            for s in V:\n",
    "                expected_rewards = []\n",
    "                for a in self.policy[s]:\n",
    "                    action_prob = self.policy[s][a]\n",
    "                    r = 0\n",
    "                    for prob, next_state, reward in self.transitions_at(s, a):\n",
    "                        r += action_prob * prob * \\\n",
    "                             (reward + gamma * V[next_state])\n",
    "                    expected_rewards.append(r)\n",
    "                value = sum(expected_rewards)\n",
    "                delta = max(delta, abs(value - V[s]))\n",
    "                V[s] = value\n",
    "            if delta < threshold:\n",
    "                break\n",
    "\n",
    "        return V\n",
    "\n",
    "    def plan(self, gamma=0.9, threshold=0.0001):\n",
    "        self.initialize()\n",
    "        states = self.env.states\n",
    "        actions = self.env.actions\n",
    "\n",
    "        def take_max_action(action_value_dict):\n",
    "            return max(action_value_dict, key=action_value_dict.get)\n",
    "\n",
    "        i = 0\n",
    "        while True:\n",
    "            i += 1\n",
    "            print(f'ite: {i}')\n",
    "            update_stable = True\n",
    "            # Estimate expected rewards under current policy.\n",
    "            V = self.estimate_by_policy(gamma, threshold)\n",
    "            self.log.append(self.dict_to_grid(V))\n",
    "\n",
    "            for s in states:\n",
    "                # Get an action following to the current policy.\n",
    "                policy_action = take_max_action(self.policy[s])\n",
    "\n",
    "                # Compare with other actions.\n",
    "                action_rewards = {}\n",
    "                for a in actions:\n",
    "                    r = 0\n",
    "                    for prob, next_state, reward in self.transitions_at(s, a):\n",
    "                        r += prob * (reward + gamma * V[next_state])\n",
    "                    action_rewards[a] = r\n",
    "                best_action = take_max_action(action_rewards)\n",
    "                if policy_action != best_action:\n",
    "                    update_stable = False\n",
    "\n",
    "                # Update policy (set best_action prob=1, otherwise=0 (greedy))\n",
    "                for a in self.policy[s]:\n",
    "                    prob = 1 if a == best_action else 0\n",
    "                    self.policy[s][a] = prob\n",
    "\n",
    "            if update_stable:\n",
    "                # If policy isn't updated, stop iteration\n",
    "                break\n",
    "\n",
    "        # Turn dictionary to grid\n",
    "        V_grid = self.dict_to_grid(V)\n",
    "        return V_grid"
   ]
  },
  {
   "cell_type": "code",
   "execution_count": null,
   "metadata": {},
   "outputs": [],
   "source": []
  },
  {
   "cell_type": "markdown",
   "metadata": {},
   "source": [
    "## 可視化"
   ]
  },
  {
   "cell_type": "code",
   "execution_count": 7,
   "metadata": {},
   "outputs": [],
   "source": [
    "from typing import List\n",
    "import seaborn as sns\n",
    "from matplotlib import pyplot as plt\n",
    "\n",
    "def show_grid_value(val: List):\n",
    "    sns.heatmap(val, annot=True)\n",
    "\n",
    "# Make grid environment.\n",
    "grid = [\n",
    "    [0, 0, 0, 1],\n",
    "    [0, 9, 0, -1],\n",
    "    [0, 0, 0, 0]\n",
    "]\n",
    "env = Environment(grid)"
   ]
  },
  {
   "cell_type": "code",
   "execution_count": 8,
   "metadata": {},
   "outputs": [
    {
     "name": "stdout",
     "output_type": "stream",
     "text": [
      "ite: 1\n",
      "ite: 2\n",
      "ite: 3\n",
      "ite: 4\n",
      "ite: 5\n",
      "ite: 6\n",
      "ite: 7\n",
      "ite: 8\n",
      "ite: 9\n",
      "ite: 10\n",
      "ite: 11\n"
     ]
    },
    {
     "data": {
      "image/png": "[encoded data removed]",
      "text/plain": [
       "<Figure size 432x288 with 2 Axes>"
      ]
     },
     "metadata": {
      "needs_background": "light"
     },
     "output_type": "display_data"
    }
   ],
   "source": [
    "value_planner = ValueIterationPlanner(Environment(grid))\n",
    "\n",
    "show_grid_value(value_planner.plan())"
   ]
  },
  {
   "cell_type": "code",
   "execution_count": 9,
   "metadata": {},
   "outputs": [
    {
     "data": {
      "image/png": "[encoded data removed]",
      "text/plain": [
       "<Figure size 432x288 with 2 Axes>"
      ]
     },
     "metadata": {
      "needs_background": "light"
     },
     "output_type": "display_data"
    },
    {
     "data": {
      "image/png": "[encoded data removed]",
      "text/plain": [
       "<Figure size 432x288 with 2 Axes>"
      ]
     },
     "metadata": {
      "needs_background": "light"
     },
     "output_type": "display_data"
    },
    {
     "data": {
      "image/png": "[encoded data removed]",
      "text/plain": [
       "<Figure size 432x288 with 2 Axes>"
      ]
     },
     "metadata": {
      "needs_background": "light"
     },
     "output_type": "display_data"
    },
    {
     "data": {
      "image/png": "[encoded data removed]",
      "text/plain": [
       "<Figure size 432x288 with 2 Axes>"
      ]
     },
     "metadata": {
      "needs_background": "light"
     },
     "output_type": "display_data"
    },
    {
     "data": {
      "image/png": "[encoded data removed]",
      "text/plain": [
       "<Figure size 432x288 with 2 Axes>"
      ]
     },
     "metadata": {
      "needs_background": "light"
     },
     "output_type": "display_data"
    },
    {
     "data": {
      "image/png": "[encoded data removed]",
      "text/plain": [
       "<Figure size 432x288 with 2 Axes>"
      ]
     },
     "metadata": {
      "needs_background": "light"
     },
     "output_type": "display_data"
    },
    {
     "data": {
      "image/png": "[encoded data removed]",
      "text/plain": [
       "<Figure size 432x288 with 2 Axes>"
      ]
     },
     "metadata": {
      "needs_background": "light"
     },
     "output_type": "display_data"
    },
    {
     "data": {
      "image/png": "[encoded data removed]",
      "text/plain": [
       "<Figure size 432x288 with 2 Axes>"
      ]
     },
     "metadata": {
      "needs_background": "light"
     },
     "output_type": "display_data"
    },
    {
     "data": {
      "image/png": "[encoded data removed]",
      "text/plain": [
       "<Figure size 432x288 with 2 Axes>"
      ]
     },
     "metadata": {
      "needs_background": "light"
     },
     "output_type": "display_data"
    },
    {
     "data": {
      "image/png": "[encoded data removed]",
      "text/plain": [
       "<Figure size 432x288 with 2 Axes>"
      ]
     },
     "metadata": {
      "needs_background": "light"
     },
     "output_type": "display_data"
    },
    {
     "data": {
      "image/png": "[encoded data removed]",
      "text/plain": [
       "<Figure size 432x288 with 2 Axes>"
      ]
     },
     "metadata": {
      "needs_background": "light"
     },
     "output_type": "display_data"
    }
   ],
   "source": [
    "# log確認\n",
    "for i, v_s in enumerate(value_planner.log):\n",
    "    plt.figure(i)\n",
    "    show_grid_value(v_s)"
   ]
  },
  {
   "cell_type": "code",
   "execution_count": 10,
   "metadata": {},
   "outputs": [
    {
     "name": "stdout",
     "output_type": "stream",
     "text": [
      "ite: 1\n",
      "ite: 2\n",
      "ite: 3\n",
      "ite: 4\n"
     ]
    },
    {
     "data": {
      "image/png": "[encoded data removed]",
      "text/plain": [
       "<Figure size 432x288 with 2 Axes>"
      ]
     },
     "metadata": {
      "needs_background": "light"
     },
     "output_type": "display_data"
    }
   ],
   "source": [
    "policy_planner = PolicyIterationPlanner(Environment(grid))\n",
    "\n",
    "show_grid_value(policy_planner.plan())"
   ]
  },
  {
   "cell_type": "code",
   "execution_count": 11,
   "metadata": {},
   "outputs": [
    {
     "data": {
      "image/png": "[encoded data removed]",
      "text/plain": [
       "<Figure size 432x288 with 2 Axes>"
      ]
     },
     "metadata": {
      "needs_background": "light"
     },
     "output_type": "display_data"
    },
    {
     "data": {
      "image/png": "[encoded data removed]",
      "text/plain": [
       "<Figure size 432x288 with 2 Axes>"
      ]
     },
     "metadata": {
      "needs_background": "light"
     },
     "output_type": "display_data"
    },
    {
     "data": {
      "image/png": "[encoded data removed]",
      "text/plain": [
       "<Figure size 432x288 with 2 Axes>"
      ]
     },
     "metadata": {
      "needs_background": "light"
     },
     "output_type": "display_data"
    },
    {
     "data": {
      "image/png": "[encoded data removed]",
      "text/plain": [
       "<Figure size 432x288 with 2 Axes>"
      ]
     },
     "metadata": {
      "needs_background": "light"
     },
     "output_type": "display_data"
    }
   ],
   "source": [
    "# log確認\n",
    "for i, v_s in enumerate(policy_planner.log):\n",
    "    plt.figure(i)\n",
    "    show_grid_value(v_s)"
   ]
  },
  {
   "cell_type": "code",
   "execution_count": null,
   "metadata": {},
   "outputs": [],
   "source": []
  },
  {
   "cell_type": "markdown",
   "metadata": {},
   "source": [
    "# TODO\n",
    "- policy/value iterationの証明\n",
    "1. Bellman方程式の作用素表現 （value base, policy base）\n",
    "1. 関数空間V上一様ノルムを入れた際の縮小写像証明 （maxとminを計算して上としたから抑える）\n",
    "1. {T^nv}がcauchy列である証明（三角不等式と縮小写像）\n",
    "1. （存在性）(距離空間の完備性より、{T^nv}は収束列で収束先v* :=lim_{n \\to \\infty}{T^nv}が存在)\n",
    "1. Tv* =v*  の証明（「Tが縮小写像 => リプシッツ連続 => 連続関数」よりlimitの順状交換可能、ε-nから直接、など）\n",
    "1. 任意の初期値v_0に対し、v* :=lim_{n \\to \\infty}{T^nv_0}の証明（2.と5.を複数回使用することで距離が0になる）\n",
    "1. (一意性)一意性の証明もやる（v* 1, v* 2の距離をとって、Tで一回飛ばすとv* 1=v* 2以外矛盾）\n",
    "\n",
    "上記より (value/policy)iterationによる近似が正当化される\n",
    "\n",
    "関数空間Vの一様ノルムによる完備性は課題..."
   ]
  },
  {
   "cell_type": "code",
   "execution_count": null,
   "metadata": {},
   "outputs": [],
   "source": []
  },
  {
   "cell_type": "markdown",
   "metadata": {},
   "source": [
    "## happy endゲームの環境実装\n",
    "- Value/Policy iterationを行えるようにhappy endゲームの環境クラスを実装する\n",
    "- 迷路のStateをはridで表現していたが、happy_endゲームは5次元空間になるためリスト表現する、可視化は工夫"
   ]
  },
  {
   "cell_type": "code",
   "execution_count": 12,
   "metadata": {},
   "outputs": [],
   "source": [
    "from enum import Enum\n",
    "import numpy as np\n",
    "\n",
    "\n",
    "class Action(Enum):\n",
    "    UP = 1\n",
    "    DOWN = -1\n",
    "\n",
    "# .reset(), .transit_func(), .reward_func(),が同じならOK\n",
    "class HappyEndEnvironment():\n",
    "\n",
    "    def __init__(self, n_max: int, happy_end_border: int, move_prob=0.8):\n",
    "        \"\"\"\n",
    "        n: 終了回数\n",
    "        move_prob: アクションと同方向へ遷移する確率\n",
    "        \"\"\"\n",
    "        self.n_max = n_max\n",
    "        self.border = happy_end_border\n",
    "        self.agent_state = \"state\"\n",
    "        self.move_prob = move_prob\n",
    "        self.reset()\n",
    "\n",
    "    @property\n",
    "    def actions(self):\n",
    "        return [Action.UP, Action.DOWN]\n",
    "    \n",
    "    @property\n",
    "    def states(self):\n",
    "        \"\"\"環境が取りうる終了状態以外の全状態集合\n",
    "            plannerで値を更新する対象状態となる\n",
    "            \n",
    "        \"\"\"\n",
    "        state_space = ['happy_end', 'bad_end']\n",
    "        def add_state(state, n):\n",
    "            state_space.append(state)\n",
    "            if n > 0:\n",
    "                for a in ['up', 'down']:\n",
    "                    new_state = state + '_' + a\n",
    "                    add_state(new_state, n-1)\n",
    "        \n",
    "        add_state('state', self.n_max)\n",
    "        return state_space\n",
    "\n",
    "    \n",
    "    def transit_func(self, state, action):\n",
    "        def next_state(s, a):\n",
    "            \n",
    "            return \"_\".join([s, \"up\" if a == Action.UP else \"down\"])\n",
    "        \n",
    "        past_moves = state.split(\"_\")[1:]\n",
    "        \n",
    "        if state in [\"happy_end\", \"bad_end\"]:\n",
    "            return {}\n",
    "        elif len(past_moves) == self.n_max:\n",
    "            up_count = sum([1 if a == \"up\" else 0 for a in past_moves])\n",
    "            state = \"happy_end\" if up_count >= self.border else \"bad_end\"\n",
    "            prob = 1.0\n",
    "            return {state: prob}\n",
    "        else:\n",
    "            opposite = Action(action.value * -1)\n",
    "            return {\n",
    "                next_state(state, action): self.move_prob,\n",
    "                next_state(state, opposite): 1 - self.move_prob\n",
    "            }\n",
    "\n",
    "\n",
    "    def reward_func(self, state):\n",
    "        past_moves = state.split(\"_\")[1:] \n",
    "        if state == \"happy_end\":            \n",
    "            reward, done = 1, True\n",
    "        elif state == \"bad_end\":            \n",
    "            reward, done = -1,  True\n",
    "        else:\n",
    "            reward, done = 0, False\n",
    "        return reward, done\n",
    "\n",
    "    \n",
    "    def reset(self):\n",
    "        self.agent_state = \"state\"\n",
    "        return self.agent_state\n",
    "\n",
    "    \n",
    "    def step(self, action):\n",
    "        next_state, reward, done = self.transit(self.agent_state, action)\n",
    "        if next_state is not None:\n",
    "            self.agent_state = next_state\n",
    "        return next_state, reward, done\n",
    "\n",
    "    \n",
    "    def transit(self, state, action):\n",
    "        transition_probs = self.transit_func(state, action)\n",
    "        if len(transition_probs) == 0:\n",
    "            return None, None, True\n",
    "        next_states = []\n",
    "        probs = []\n",
    "        for s in transition_probs:\n",
    "            next_states.append(s)\n",
    "            probs.append(transition_probs[s])\n",
    "\n",
    "        next_state = np.random.choice(next_states, p=probs)\n",
    "        reward, done = self.reward_func(next_state)\n",
    "        return next_state, reward, done\n"
   ]
  },
  {
   "cell_type": "code",
   "execution_count": 13,
   "metadata": {},
   "outputs": [
    {
     "name": "stdout",
     "output_type": "stream",
     "text": [
      "state_down_up_down_down_down\n",
      "Episode 0: Agent gets -1 reward.\n",
      "\n",
      "state_up_down_down_down_down\n",
      "Episode 1: Agent gets -1 reward.\n",
      "\n",
      "state_up_down_up_down_down\n",
      "Episode 2: Agent gets -1 reward.\n",
      "\n",
      "state_up_down_down_up_up\n",
      "Episode 3: Agent gets 1 reward.\n",
      "\n",
      "state_up_down_down_up_up\n",
      "Episode 4: Agent gets 1 reward.\n",
      "\n",
      "state_up_down_up_down_up\n",
      "Episode 5: Agent gets 1 reward.\n",
      "\n",
      "state_down_down_down_down_down\n",
      "Episode 6: Agent gets -1 reward.\n",
      "\n",
      "state_up_up_down_down_up\n",
      "Episode 7: Agent gets 1 reward.\n",
      "\n",
      "state_up_down_up_down_down\n",
      "Episode 8: Agent gets -1 reward.\n",
      "\n",
      "state_up_down_down_down_up\n",
      "Episode 9: Agent gets -1 reward.\n",
      "\n"
     ]
    }
   ],
   "source": [
    "# test, random Agent\n",
    "class Agent():\n",
    "    # initで入力した環境のactionをランダムに出力する。\n",
    "\n",
    "    def __init__(self, env):\n",
    "        self.actions = env.actions\n",
    "\n",
    "    def policy(self, state):\n",
    "        return random.choice(self.actions)\n",
    "\n",
    "# Make grid environment.\n",
    "env = HappyEndEnvironment(n_max=5, happy_end_border=3, move_prob=0.8)\n",
    "agent = Agent(env)\n",
    "\n",
    "# Try 10 game.\n",
    "for i in range(10):\n",
    "    # Initialize position of agent.\n",
    "    state = env.reset()\n",
    "    total_reward = 0\n",
    "    done = False\n",
    "\n",
    "    while True:\n",
    "        action = agent.policy(state)\n",
    "        next_state, reward, done = env.step(action)\n",
    "        total_reward += reward\n",
    "        if done:\n",
    "            # 終了一個前状態を表示するためにbreak処理をここにはさむ\n",
    "            print(state)\n",
    "            break\n",
    "        state = next_state\n",
    "    \n",
    "    print(\"Episode {}: Agent gets {} reward.\\n\".format(i, total_reward))"
   ]
  },
  {
   "cell_type": "markdown",
   "metadata": {},
   "source": [
    "# planner書き換え\n",
    "- dict_to_gridが迷路固有のものなので、happy endゲーム用に書き換え\n",
    "    - 単なるログ/出力用？　親クラスのdict_to_gridに触らずに辞書のままログを保存, 出力するように書き換え\n",
    "    - そもそもログ/出力をstateキーの辞書で持っておいた方がいろいろな環境に対応できるのでは、、、\n",
    "    - 環境固有の状態変換メソッドを親クラスにもつと良くなさそう"
   ]
  },
  {
   "cell_type": "code",
   "execution_count": 14,
   "metadata": {},
   "outputs": [],
   "source": [
    "def get_happyend_states(n):\n",
    "    state_space = []\n",
    "\n",
    "    def add_action(state, n):\n",
    "        state_space.append(state)\n",
    "        if n > 0:\n",
    "            for a in ['up', 'down']:\n",
    "                new_state = state + '_' + a\n",
    "                add_action(new_state, n-1)\n",
    "\n",
    "    add_action('state', n)\n",
    "    return state_space"
   ]
  },
  {
   "cell_type": "code",
   "execution_count": 15,
   "metadata": {},
   "outputs": [
    {
     "data": {
      "text/plain": [
       "['state',\n",
       " 'state_up',\n",
       " 'state_up_up',\n",
       " 'state_up_up_up',\n",
       " 'state_up_up_down',\n",
       " 'state_up_down',\n",
       " 'state_up_down_up',\n",
       " 'state_up_down_down',\n",
       " 'state_down',\n",
       " 'state_down_up',\n",
       " 'state_down_up_up',\n",
       " 'state_down_up_down',\n",
       " 'state_down_down',\n",
       " 'state_down_down_up',\n",
       " 'state_down_down_down']"
      ]
     },
     "execution_count": 15,
     "metadata": {},
     "output_type": "execute_result"
    }
   ],
   "source": [
    "# 全状態空間が必要, 大きくなると大変なことに...\n",
    "get_happyend_states(3)"
   ]
  },
  {
   "cell_type": "markdown",
   "metadata": {},
   "source": [
    "# policy/value iteration planner(汎用)"
   ]
  },
  {
   "cell_type": "code",
   "execution_count": 16,
   "metadata": {},
   "outputs": [],
   "source": [
    "class Planner():\n",
    "    def __init__(self, env):\n",
    "        self.env = env\n",
    "        self.log = []\n",
    "\n",
    "    def initialize(self):\n",
    "        self.env.reset()\n",
    "        self.log = []\n",
    "\n",
    "    def plan(self, gamma=0.9, threshold=0.0001):\n",
    "        raise Exception(\"Planner have to implements plan method.\")\n",
    "\n",
    "    def transitions_at(self, state, action):\n",
    "        # is_terminal追加\n",
    "        transition_probs = self.env.transit_func(state, action)\n",
    "        for next_state in transition_probs:\n",
    "            prob = transition_probs[next_state]\n",
    "            reward, _ = self.env.reward_func(next_state)\n",
    "            yield prob, next_state, reward\n",
    "\n",
    "            \n",
    "class ValueIterationPlanner(Planner):\n",
    "\n",
    "    def __init__(self, env):\n",
    "        super().__init__(env)\n",
    "\n",
    "    def plan(self, gamma=0.9, threshold=0.0001):\n",
    "        self.initialize()\n",
    "        actions = self.env.actions\n",
    "        V = {}\n",
    "        for s in self.env.states:\n",
    "            # Initialize each state's expected reward.\n",
    "            V[s] = 0\n",
    "        i = 0\n",
    "        while True:\n",
    "            i += 1\n",
    "            print(f'ite: {i}')\n",
    "            delta = 0\n",
    "            self.log.append(V)\n",
    "            for s in V:\n",
    "                # 到達できない場所 or 終着点の場合、計算を無視\n",
    "                # そもそも状態空間に含めなければ良いのでは？ そもそもtransitin_probで移動を制限してるので必要なくない？, 確率1で終端地点に到達し、rewardをちゃんと設定できていればよさそう\n",
    "                # if not self.env.can_action_at(s):\n",
    "                #     continue\n",
    "                expected_rewards = []\n",
    "                for a in actions:\n",
    "                    r = 0\n",
    "                    for prob, next_state, reward in self.transitions_at(s, a):\n",
    "                        r += prob * (reward + gamma * V[next_state])\n",
    "                    # 各アクション毎の遷移先価値期待値のmaxを考える\n",
    "                    expected_rewards.append(r)\n",
    "                max_reward = max(expected_rewards)\n",
    "                delta = max(delta, abs(max_reward - V[s]))\n",
    "                V[s] = max_reward\n",
    "\n",
    "            if delta < threshold:\n",
    "                break\n",
    "        return V\n",
    "    \n",
    "    \n",
    "class PolicyIterationPlanner(Planner):\n",
    "\n",
    "    def __init__(self, env):\n",
    "        super().__init__(env)\n",
    "        self.policy = {}\n",
    "\n",
    "    def initialize(self):\n",
    "        super().initialize()\n",
    "        self.policy = {}\n",
    "        actions = self.env.actions\n",
    "        states = self.env.states\n",
    "        for s in states:\n",
    "            self.policy[s] = {}\n",
    "            for a in actions:\n",
    "                # Initialize policy.\n",
    "                # At first, each action is taken uniformly.\n",
    "                self.policy[s][a] = 1 / len(actions)\n",
    "\n",
    "    def estimate_by_policy(self, gamma, threshold):\n",
    "        V = {}\n",
    "        for s in self.env.states:\n",
    "            # Initialize each state's expected reward.\n",
    "            V[s] = 0\n",
    "            \n",
    "        i = 0\n",
    "        while True:\n",
    "            i += 1\n",
    "            print(f'ite: {i}')\n",
    "            delta = 0\n",
    "            for s in V:\n",
    "                expected_rewards = []\n",
    "                for a in self.policy[s]:\n",
    "                    action_prob = self.policy[s][a]\n",
    "                    r = 0\n",
    "                    for prob, next_state, reward in self.transitions_at(s, a):\n",
    "                        r += action_prob * prob * \\\n",
    "                             (reward + gamma * V[next_state])\n",
    "                    expected_rewards.append(r)\n",
    "                value = sum(expected_rewards)\n",
    "                delta = max(delta, abs(value - V[s]))\n",
    "                V[s] = value\n",
    "            if delta < threshold:\n",
    "                break\n",
    "        return V\n",
    "\n",
    "    def plan(self, gamma=0.9, threshold=0.0001):\n",
    "        self.initialize()\n",
    "        states = self.env.states\n",
    "        actions = self.env.actions\n",
    "\n",
    "        def take_max_action(action_value_dict):\n",
    "            return max(action_value_dict, key=action_value_dict.get)\n",
    "\n",
    "        while True:\n",
    "            print(f'ite: {i}')\n",
    "            update_stable = True\n",
    "            # Estimate expected rewards under current policy.\n",
    "            V = self.estimate_by_policy(gamma, threshold)\n",
    "            self.log.append(V)\n",
    "\n",
    "            for s in states:\n",
    "                # Get an action following to the current policy.\n",
    "                policy_action = take_max_action(self.policy[s])\n",
    "\n",
    "                # Compare with other actions.\n",
    "                action_rewards = {}\n",
    "                for a in actions:\n",
    "                    r = 0\n",
    "                    for prob, next_state, reward in self.transitions_at(s, a):\n",
    "                        r += prob * (reward + gamma * V[next_state])\n",
    "                    action_rewards[a] = r\n",
    "                best_action = take_max_action(action_rewards)\n",
    "                if policy_action != best_action:\n",
    "                    update_stable = False\n",
    "\n",
    "                # Update policy (set best_action prob=1, otherwise=0 (greedy))\n",
    "                for a in self.policy[s]:\n",
    "                    prob = 1 if a == best_action else 0\n",
    "                    self.policy[s][a] = prob\n",
    "\n",
    "            if update_stable:\n",
    "                # If policy isn't updated, stop iteration\n",
    "                # DEBUG: print(policy_action)\n",
    "                break\n",
    "        return V"
   ]
  },
  {
   "cell_type": "code",
   "execution_count": 17,
   "metadata": {},
   "outputs": [],
   "source": [
    "def show_happyend_value(state_value_dict):\n",
    "    \"\"\"happy endゲームの価値関数辞書を可視化する関数\"\"\"\n",
    "    # value順にsort\n",
    "    len_max = max([len(x) for x in state_value_dict.keys()])\n",
    "    print('\\nValue function of HappyEndGame states:')\n",
    "    print('-' * (len_max + 16))\n",
    "    print('|  |state'.ljust(len_max) + '|' + 'value'.ljust(14) + '|')\n",
    "    print('-' * (len_max + 16))\n",
    "    for state, val in sorted(state_value_dict.items(), key=lambda i: i[1]):\n",
    "        _state = (\n",
    "            state\n",
    "            .replace('bad_end', '|T | BAD_END')\n",
    "            .replace('happy_end', '|T | HAPPY_END')\n",
    "            .replace('state', '|S |')\n",
    "            .replace('S |_', 'S | ')\n",
    "            .replace('up', '  UP ')\n",
    "            .replace('down', 'DOWN ')\n",
    "            .replace('_', '')\n",
    "        )\n",
    "        print(_state.ljust(len_max) + '|' + '{:.4g}'.format(val).rjust(14) + '|')\n",
    "    print('-' * (len_max + 16))"
   ]
  },
  {
   "cell_type": "markdown",
   "metadata": {},
   "source": [
    "- 冒頭の比較対象"
   ]
  },
  {
   "cell_type": "code",
   "execution_count": 18,
   "metadata": {},
   "outputs": [
    {
     "name": "stdout",
     "output_type": "stream",
     "text": [
      "0.7880942034605892\n",
      "0.9068026334400001\n",
      "-0.96059601\n"
     ]
    }
   ],
   "source": [
    "# gamma 0.99\n",
    "# LIMIT_GAME_COUNT = 5\n",
    "# HAPPY_END_BORDER = 4\n",
    "# MOVE_PROB = 0.9\n",
    "\n",
    "\n",
    "print(V(\"state\"))\n",
    "print(V(\"state_up_up\"))\n",
    "print(V(\"state_down_down\"))"
   ]
  },
  {
   "cell_type": "code",
   "execution_count": 19,
   "metadata": {},
   "outputs": [
    {
     "name": "stdout",
     "output_type": "stream",
     "text": [
      "ite: 1\n",
      "ite: 2\n",
      "ite: 3\n",
      "ite: 4\n",
      "ite: 5\n",
      "ite: 6\n",
      "ite: 7\n"
     ]
    }
   ],
   "source": [
    "value_planner = ValueIterationPlanner(\n",
    "    HappyEndEnvironment(\n",
    "        n_max=5,\n",
    "        happy_end_border=4,\n",
    "        move_prob=0.9\n",
    "    )\n",
    ")\n",
    "V_value = value_planner.plan(gamma=0.99, threshold=0.000001)"
   ]
  },
  {
   "cell_type": "code",
   "execution_count": 20,
   "metadata": {},
   "outputs": [
    {
     "name": "stdout",
     "output_type": "stream",
     "text": [
      "0.7960547509702921\n",
      "0.9159622560000001\n",
      "-0.9702989999999999\n"
     ]
    }
   ],
   "source": [
    "print(V_value[\"state\"])\n",
    "print(V_value[\"state_up_up\"])\n",
    "print(V_value[\"state_down_down\"])"
   ]
  },
  {
   "cell_type": "code",
   "execution_count": 21,
   "metadata": {},
   "outputs": [
    {
     "name": "stdout",
     "output_type": "stream",
     "text": [
      "\n",
      "Value function of HappyEndGame states:\n",
      "----------------------------------------------\n",
      "|  |state                     |value         |\n",
      "----------------------------------------------\n",
      "|S |   UP   UP   UP DOWN DOWN |            -1|\n",
      "|S |   UP   UP DOWN   UP DOWN |            -1|\n",
      "|S |   UP   UP DOWN DOWN   UP |            -1|\n",
      "|S |   UP   UP DOWN DOWN DOWN |            -1|\n",
      "|S |   UP DOWN   UP   UP DOWN |            -1|\n",
      "|S |   UP DOWN   UP DOWN   UP |            -1|\n",
      "|S |   UP DOWN   UP DOWN DOWN |            -1|\n",
      "|S |   UP DOWN DOWN   UP   UP |            -1|\n",
      "|S |   UP DOWN DOWN   UP DOWN |            -1|\n",
      "|S |   UP DOWN DOWN DOWN   UP |            -1|\n",
      "|S |   UP DOWN DOWN DOWN DOWN |            -1|\n",
      "|S | DOWN   UP   UP   UP DOWN |            -1|\n",
      "|S | DOWN   UP   UP DOWN   UP |            -1|\n",
      "|S | DOWN   UP   UP DOWN DOWN |            -1|\n",
      "|S | DOWN   UP DOWN   UP   UP |            -1|\n",
      "|S | DOWN   UP DOWN   UP DOWN |            -1|\n",
      "|S | DOWN   UP DOWN DOWN   UP |            -1|\n",
      "|S | DOWN   UP DOWN DOWN DOWN |            -1|\n",
      "|S | DOWN DOWN   UP   UP   UP |            -1|\n",
      "|S | DOWN DOWN   UP   UP DOWN |            -1|\n",
      "|S | DOWN DOWN   UP DOWN   UP |            -1|\n",
      "|S | DOWN DOWN   UP DOWN DOWN |            -1|\n",
      "|S | DOWN DOWN DOWN   UP   UP |            -1|\n",
      "|S | DOWN DOWN DOWN   UP DOWN |            -1|\n",
      "|S | DOWN DOWN DOWN DOWN   UP |            -1|\n",
      "|S | DOWN DOWN DOWN DOWN DOWN |            -1|\n",
      "|S |   UP   UP DOWN DOWN      |         -0.99|\n",
      "|S |   UP DOWN   UP DOWN      |         -0.99|\n",
      "|S |   UP DOWN DOWN   UP      |         -0.99|\n",
      "|S |   UP DOWN DOWN DOWN      |         -0.99|\n",
      "|S | DOWN   UP   UP DOWN      |         -0.99|\n",
      "|S | DOWN   UP DOWN   UP      |         -0.99|\n",
      "|S | DOWN   UP DOWN DOWN      |         -0.99|\n",
      "|S | DOWN DOWN   UP   UP      |         -0.99|\n",
      "|S | DOWN DOWN   UP DOWN      |         -0.99|\n",
      "|S | DOWN DOWN DOWN   UP      |         -0.99|\n",
      "|S | DOWN DOWN DOWN DOWN      |         -0.99|\n",
      "|S |   UP DOWN DOWN           |       -0.9801|\n",
      "|S | DOWN   UP DOWN           |       -0.9801|\n",
      "|S | DOWN DOWN   UP           |       -0.9801|\n",
      "|S | DOWN DOWN DOWN           |       -0.9801|\n",
      "|S | DOWN DOWN                |       -0.9703|\n",
      "|T | HAPPYEND                 |             0|\n",
      "|T | BADEND                   |             0|\n",
      "|S | DOWN                     |        0.2999|\n",
      "|S |   UP DOWN                |        0.4444|\n",
      "|S | DOWN   UP                |        0.4444|\n",
      "|S |   UP   UP DOWN           |        0.6077|\n",
      "|S |   UP DOWN   UP           |        0.6077|\n",
      "|S | DOWN   UP   UP           |        0.6077|\n",
      "|S |   UP   UP   UP DOWN      |         0.792|\n",
      "|S |   UP   UP DOWN   UP      |         0.792|\n",
      "|S |   UP DOWN   UP   UP      |         0.792|\n",
      "|S | DOWN   UP   UP   UP      |         0.792|\n",
      "|S |                          |        0.7961|\n",
      "|S |   UP                     |        0.8601|\n",
      "|S |   UP   UP                |         0.916|\n",
      "|S |   UP   UP   UP           |        0.9605|\n",
      "|S |   UP   UP   UP   UP      |          0.99|\n",
      "|S |   UP   UP   UP   UP   UP |             1|\n",
      "|S |   UP   UP   UP   UP DOWN |             1|\n",
      "|S |   UP   UP   UP DOWN   UP |             1|\n",
      "|S |   UP   UP DOWN   UP   UP |             1|\n",
      "|S |   UP DOWN   UP   UP   UP |             1|\n",
      "|S | DOWN   UP   UP   UP   UP |             1|\n",
      "----------------------------------------------\n"
     ]
    }
   ],
   "source": [
    "show_happyend_value(V_value)"
   ]
  },
  {
   "cell_type": "code",
   "execution_count": 22,
   "metadata": {},
   "outputs": [],
   "source": [
    "# log確認\n",
    "# for i, v_s in enumerate(value_planner.log):\n",
    "#     print('ite:', i)\n",
    "#     show_happyend_value(v_s)"
   ]
  },
  {
   "cell_type": "code",
   "execution_count": 23,
   "metadata": {},
   "outputs": [
    {
     "name": "stdout",
     "output_type": "stream",
     "text": [
      "ite: 9\n",
      "ite: 1\n",
      "ite: 2\n",
      "ite: 3\n",
      "ite: 4\n",
      "ite: 5\n",
      "ite: 6\n",
      "ite: 7\n"
     ]
    }
   ],
   "source": [
    "policy_planner = PolicyIterationPlanner(\n",
    "    HappyEndEnvironment(\n",
    "        n_max=5,\n",
    "        happy_end_border=4,\n",
    "        move_prob=0.9\n",
    "    )\n",
    ")\n",
    "\n",
    "V_policy = policy_planner.plan(gamma=0.99)"
   ]
  },
  {
   "cell_type": "code",
   "execution_count": 24,
   "metadata": {},
   "outputs": [
    {
     "name": "stdout",
     "output_type": "stream",
     "text": [
      "-0.5943687811874998\n",
      "0.0\n",
      "-0.9702989999999999\n"
     ]
    }
   ],
   "source": [
    "# 何かがおかしい\n",
    "\n",
    "print(V_policy[\"state\"])\n",
    "print(V_policy[\"state_up_up\"])\n",
    "print(V_policy[\"state_down_down\"])"
   ]
  },
  {
   "cell_type": "code",
   "execution_count": 25,
   "metadata": {},
   "outputs": [
    {
     "name": "stdout",
     "output_type": "stream",
     "text": [
      "\n",
      "Value function of HappyEndGame states:\n",
      "----------------------------------------------\n",
      "|  |state                     |value         |\n",
      "----------------------------------------------\n",
      "|S |   UP   UP   UP DOWN DOWN |            -1|\n",
      "|S |   UP   UP DOWN   UP DOWN |            -1|\n",
      "|S |   UP   UP DOWN DOWN   UP |            -1|\n",
      "|S |   UP   UP DOWN DOWN DOWN |            -1|\n",
      "|S |   UP DOWN   UP   UP DOWN |            -1|\n",
      "|S |   UP DOWN   UP DOWN   UP |            -1|\n",
      "|S |   UP DOWN   UP DOWN DOWN |            -1|\n",
      "|S |   UP DOWN DOWN   UP   UP |            -1|\n",
      "|S |   UP DOWN DOWN   UP DOWN |            -1|\n",
      "|S |   UP DOWN DOWN DOWN   UP |            -1|\n",
      "|S |   UP DOWN DOWN DOWN DOWN |            -1|\n",
      "|S | DOWN   UP   UP   UP DOWN |            -1|\n",
      "|S | DOWN   UP   UP DOWN   UP |            -1|\n",
      "|S | DOWN   UP   UP DOWN DOWN |            -1|\n",
      "|S | DOWN   UP DOWN   UP   UP |            -1|\n",
      "|S | DOWN   UP DOWN   UP DOWN |            -1|\n",
      "|S | DOWN   UP DOWN DOWN   UP |            -1|\n",
      "|S | DOWN   UP DOWN DOWN DOWN |            -1|\n",
      "|S | DOWN DOWN   UP   UP   UP |            -1|\n",
      "|S | DOWN DOWN   UP   UP DOWN |            -1|\n",
      "|S | DOWN DOWN   UP DOWN   UP |            -1|\n",
      "|S | DOWN DOWN   UP DOWN DOWN |            -1|\n",
      "|S | DOWN DOWN DOWN   UP   UP |            -1|\n",
      "|S | DOWN DOWN DOWN   UP DOWN |            -1|\n",
      "|S | DOWN DOWN DOWN DOWN   UP |            -1|\n",
      "|S | DOWN DOWN DOWN DOWN DOWN |            -1|\n",
      "|S |   UP   UP DOWN DOWN      |         -0.99|\n",
      "|S |   UP DOWN   UP DOWN      |         -0.99|\n",
      "|S |   UP DOWN DOWN   UP      |         -0.99|\n",
      "|S |   UP DOWN DOWN DOWN      |         -0.99|\n",
      "|S | DOWN   UP   UP DOWN      |         -0.99|\n",
      "|S | DOWN   UP DOWN   UP      |         -0.99|\n",
      "|S | DOWN   UP DOWN DOWN      |         -0.99|\n",
      "|S | DOWN DOWN   UP   UP      |         -0.99|\n",
      "|S | DOWN DOWN   UP DOWN      |         -0.99|\n",
      "|S | DOWN DOWN DOWN   UP      |         -0.99|\n",
      "|S | DOWN DOWN DOWN DOWN      |         -0.99|\n",
      "|S |   UP DOWN DOWN           |       -0.9801|\n",
      "|S | DOWN   UP DOWN           |       -0.9801|\n",
      "|S | DOWN DOWN   UP           |       -0.9801|\n",
      "|S | DOWN DOWN DOWN           |       -0.9801|\n",
      "|S | DOWN DOWN                |       -0.9703|\n",
      "|S | DOWN                     |       -0.8405|\n",
      "|S |   UP DOWN                |       -0.7277|\n",
      "|S | DOWN   UP                |       -0.7277|\n",
      "|S |                          |       -0.5944|\n",
      "|S |   UP   UP DOWN           |         -0.49|\n",
      "|S |   UP DOWN   UP           |         -0.49|\n",
      "|S | DOWN   UP   UP           |         -0.49|\n",
      "|S |   UP                     |       -0.3602|\n",
      "|T | HAPPYEND                 |             0|\n",
      "|T | BADEND                   |             0|\n",
      "|S |   UP   UP                |             0|\n",
      "|S |   UP   UP   UP DOWN      |             0|\n",
      "|S |   UP   UP DOWN   UP      |             0|\n",
      "|S |   UP DOWN   UP   UP      |             0|\n",
      "|S | DOWN   UP   UP   UP      |             0|\n",
      "|S |   UP   UP   UP           |          0.49|\n",
      "|S |   UP   UP   UP   UP      |          0.99|\n",
      "|S |   UP   UP   UP   UP   UP |             1|\n",
      "|S |   UP   UP   UP   UP DOWN |             1|\n",
      "|S |   UP   UP   UP DOWN   UP |             1|\n",
      "|S |   UP   UP DOWN   UP   UP |             1|\n",
      "|S |   UP DOWN   UP   UP   UP |             1|\n",
      "|S | DOWN   UP   UP   UP   UP |             1|\n",
      "----------------------------------------------\n"
     ]
    }
   ],
   "source": [
    "show_happyend_value(V_policy)"
   ]
  },
  {
   "cell_type": "code",
   "execution_count": null,
   "metadata": {},
   "outputs": [],
   "source": []
  },
  {
   "cell_type": "code",
   "execution_count": null,
   "metadata": {},
   "outputs": [],
   "source": []
  }
 ],
 "metadata": {
  "kernelspec": {
   "display_name": "Python 3",
   "language": "python",
   "name": "python3"
  },
  "language_info": {
   "codemirror_mode": {
    "name": "ipython",
    "version": 3
   },
   "file_extension": ".py",
   "mimetype": "text/x-python",
   "name": "python",
   "nbconvert_exporter": "python",
   "pygments_lexer": "ipython3",
   "version": "3.7.6"
  }
 },
 "nbformat": 4,
 "nbformat_minor": 4
}
